{
 "cells": [
  {
   "cell_type": "code",
   "execution_count": 1,
   "id": "0a9ab66f",
   "metadata": {},
   "outputs": [
    {
     "name": "stdout",
     "output_type": "stream",
     "text": [
      "Login Start\n",
      "Login Completion\n"
     ]
    }
   ],
   "source": [
    "from selenium import webdriver\n",
    "\n",
    "\n",
    "options = webdriver.ChromeOptions()\n",
    "# options.add_argument('headless') # headless 모드 사용하지 않을 경우 주석처리\n",
    "options.add_argument('window-size=1920x1080')\n",
    "options.add_argument(\"disable-gpu\")\n",
    "driver = webdriver.Chrome('chromedriver', options=options)\n",
    "driver.implicitly_wait(5)\n",
    "\n",
    "print(\"Login Start\")\n",
    "driver.get('https://nid.naver.com/nidlogin.login')\n",
    "tag_id = driver.find_element_by_name('id')\n",
    "tag_pw = driver.find_element_by_name('pw')\n",
    "tag_id.clear()\n",
    "driver.implicitly_wait(1)\n",
    "\n",
    "driver.execute_script(\"document.getElementsByName('id')[0].value='아이디'\")\n",
    "driver.implicitly_wait(1)\n",
    "\n",
    "driver.execute_script(\"document.getElementsByName('pw')[0].value='비밀번호'\")\n",
    "driver.implicitly_wait(1)\n",
    "\n",
    "# 로그인 버튼 클릭\n",
    "driver.find_element_by_xpath('//*[@id=\"frmNIDLogin\"]/fieldset/input').click()\n",
    "driver.implicitly_wait(1)\n",
    "print(\"Login Completion\")\n",
    "\n",
    "# 카페 글 링크 가져오기\n",
    "def crawling_new_url(cafe_url):\n",
    "    print(\"URL Crawling Start\")\n",
    "    article_url = []\n",
    "    append = article_url.append\n",
    "    for url in cafe_url:\n",
    "        print(url)\n",
    "        driver.get(url)\n",
    "        driver.implicitly_wait(3)\n",
    "        driver.switch_to.frame(\"cafe_main\")\n",
    "        while 1:\n",
    "            check = 1\n",
    "            page_bar = driver.find_elements_by_css_selector('.prev-next > a')\n",
    "            page = []\n",
    "            for e in page_bar:\n",
    "                if e.text != '이전':\n",
    "                    page.append(e.text)\n",
    "\n",
    "            print(\"page: \", page)\n",
    "            for i in page:\n",
    "                html = driver.page_source\n",
    "                soup = BeautifulSoup(html, 'html.parser')\n",
    "                article_list = soup.find_all('div', class_='article-board m-tcol-c')[1].find_all('a', class_='article')\n",
    "\n",
    "                for j in range(len(article_list)):\n",
    "                    element = article_list[j].get('href')\n",
    "                    append('https://cafe.naver.com' + element)\n",
    "\n",
    "                try:\n",
    "                    # 다음 페이지로\n",
    "                    if check == len(page):\n",
    "                        check = 'stop'\n",
    "                        break\n",
    "                    elif (int(i) % 10) == 0:\n",
    "                        driver.find_element_by_link_text('다음').click()\n",
    "                        driver.implicitly_wait(3)\n",
    "                    else:\n",
    "                        driver.find_element_by_link_text(str(int(i) + 1)).click()\n",
    "                        check += 1\n",
    "                        driver.implicitly_wait(3)\n",
    "                except Exception as error:  # 로딩 실패시 재시도\n",
    "                    print(error)\n",
    "                    pass\n",
    "            if check == 'stop':\n",
    "                break\n",
    "        print('--> ', len(article_url), article_url)\n",
    "    print(\"URL Crawling Completion\")\n",
    "    return article_url\n"
   ]
  }
 ],
 "metadata": {
  "jupytext": {
   "encoding": "# -*- coding: utf-8 -*-",
   "formats": "ipynb,py:light"
  },
  "kernelspec": {
   "display_name": "Python 3",
   "language": "python",
   "name": "python3"
  },
  "language_info": {
   "codemirror_mode": {
    "name": "ipython",
    "version": 3
   },
   "file_extension": ".py",
   "mimetype": "text/x-python",
   "name": "python",
   "nbconvert_exporter": "python",
   "pygments_lexer": "ipython3",
   "version": "3.8.8"
  }
 },
 "nbformat": 4,
 "nbformat_minor": 5
}
